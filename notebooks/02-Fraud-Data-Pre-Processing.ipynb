{
 "cells": [
  {
   "cell_type": "markdown",
   "metadata": {},
   "source": [
    "**Task: Clean data to be used for our modeling**\n",
    "\n",
    "Ex: Dropping null values, removing unnecessary columns, removing outliers, and\n",
    "potentially fixing incorrectly formatted data."
   ]
  },
  {
   "cell_type": "code",
   "execution_count": 1,
   "metadata": {},
   "outputs": [],
   "source": [
    "import pandas as pd\n",
    "import numpy as np \n",
    "import matplotlib.pyplot as plt \n",
    "import seaborn as sns "
   ]
  },
  {
   "cell_type": "code",
   "execution_count": 2,
   "metadata": {},
   "outputs": [],
   "source": [
    "fraud = pd.read_csv('../data/fraud_new.csv')"
   ]
  },
  {
   "cell_type": "code",
   "execution_count": 3,
   "metadata": {},
   "outputs": [
    {
     "data": {
      "text/html": [
       "<div>\n",
       "<style scoped>\n",
       "    .dataframe tbody tr th:only-of-type {\n",
       "        vertical-align: middle;\n",
       "    }\n",
       "\n",
       "    .dataframe tbody tr th {\n",
       "        vertical-align: top;\n",
       "    }\n",
       "\n",
       "    .dataframe thead th {\n",
       "        text-align: right;\n",
       "    }\n",
       "</style>\n",
       "<table border=\"1\" class=\"dataframe\">\n",
       "  <thead>\n",
       "    <tr style=\"text-align: right;\">\n",
       "      <th></th>\n",
       "      <th>Unnamed: 0</th>\n",
       "      <th>step</th>\n",
       "      <th>type</th>\n",
       "      <th>amount</th>\n",
       "      <th>nameOrig</th>\n",
       "      <th>oldbalanceOrg</th>\n",
       "      <th>newbalanceOrig</th>\n",
       "      <th>nameDest</th>\n",
       "      <th>oldbalanceDest</th>\n",
       "      <th>newbalanceDest</th>\n",
       "      <th>isFraud</th>\n",
       "      <th>isFlaggedFraud</th>\n",
       "    </tr>\n",
       "  </thead>\n",
       "  <tbody>\n",
       "    <tr>\n",
       "      <th>0</th>\n",
       "      <td>780985</td>\n",
       "      <td>39</td>\n",
       "      <td>CASH_OUT</td>\n",
       "      <td>134220.68</td>\n",
       "      <td>C131297852</td>\n",
       "      <td>148689.91</td>\n",
       "      <td>14469.23</td>\n",
       "      <td>C1409230127</td>\n",
       "      <td>1460741.73</td>\n",
       "      <td>1515197.87</td>\n",
       "      <td>0</td>\n",
       "      <td>0</td>\n",
       "    </tr>\n",
       "    <tr>\n",
       "      <th>1</th>\n",
       "      <td>258402</td>\n",
       "      <td>14</td>\n",
       "      <td>CASH_IN</td>\n",
       "      <td>147989.15</td>\n",
       "      <td>C135660289</td>\n",
       "      <td>770489.94</td>\n",
       "      <td>918479.10</td>\n",
       "      <td>C426052941</td>\n",
       "      <td>165786.61</td>\n",
       "      <td>0.00</td>\n",
       "      <td>0</td>\n",
       "      <td>0</td>\n",
       "    </tr>\n",
       "    <tr>\n",
       "      <th>2</th>\n",
       "      <td>2863601</td>\n",
       "      <td>227</td>\n",
       "      <td>CASH_OUT</td>\n",
       "      <td>22497.02</td>\n",
       "      <td>C1835502862</td>\n",
       "      <td>140.00</td>\n",
       "      <td>0.00</td>\n",
       "      <td>C857314417</td>\n",
       "      <td>0.00</td>\n",
       "      <td>22497.02</td>\n",
       "      <td>0</td>\n",
       "      <td>0</td>\n",
       "    </tr>\n",
       "    <tr>\n",
       "      <th>3</th>\n",
       "      <td>2660525</td>\n",
       "      <td>210</td>\n",
       "      <td>CASH_OUT</td>\n",
       "      <td>200096.30</td>\n",
       "      <td>C914107697</td>\n",
       "      <td>147679.00</td>\n",
       "      <td>0.00</td>\n",
       "      <td>C1832844105</td>\n",
       "      <td>0.00</td>\n",
       "      <td>200096.30</td>\n",
       "      <td>0</td>\n",
       "      <td>0</td>\n",
       "    </tr>\n",
       "    <tr>\n",
       "      <th>4</th>\n",
       "      <td>1792523</td>\n",
       "      <td>162</td>\n",
       "      <td>PAYMENT</td>\n",
       "      <td>13904.94</td>\n",
       "      <td>C1489506871</td>\n",
       "      <td>0.00</td>\n",
       "      <td>0.00</td>\n",
       "      <td>M1861487502</td>\n",
       "      <td>0.00</td>\n",
       "      <td>0.00</td>\n",
       "      <td>0</td>\n",
       "      <td>0</td>\n",
       "    </tr>\n",
       "  </tbody>\n",
       "</table>\n",
       "</div>"
      ],
      "text/plain": [
       "   Unnamed: 0  step      type     amount     nameOrig  oldbalanceOrg  \\\n",
       "0      780985    39  CASH_OUT  134220.68   C131297852      148689.91   \n",
       "1      258402    14   CASH_IN  147989.15   C135660289      770489.94   \n",
       "2     2863601   227  CASH_OUT   22497.02  C1835502862         140.00   \n",
       "3     2660525   210  CASH_OUT  200096.30   C914107697      147679.00   \n",
       "4     1792523   162   PAYMENT   13904.94  C1489506871           0.00   \n",
       "\n",
       "   newbalanceOrig     nameDest  oldbalanceDest  newbalanceDest  isFraud  \\\n",
       "0        14469.23  C1409230127      1460741.73      1515197.87        0   \n",
       "1       918479.10   C426052941       165786.61            0.00        0   \n",
       "2            0.00   C857314417            0.00        22497.02        0   \n",
       "3            0.00  C1832844105            0.00       200096.30        0   \n",
       "4            0.00  M1861487502            0.00            0.00        0   \n",
       "\n",
       "   isFlaggedFraud  \n",
       "0               0  \n",
       "1               0  \n",
       "2               0  \n",
       "3               0  \n",
       "4               0  "
      ]
     },
     "execution_count": 3,
     "metadata": {},
     "output_type": "execute_result"
    }
   ],
   "source": [
    "fraud.head()"
   ]
  },
  {
   "cell_type": "markdown",
   "metadata": {},
   "source": [
    "From the data we are only interested in the columns that would give us insights on fraudulent transactions, as such the columns that should be dropped based off of our EDA would be: nameOrig, nameDest columns for now. "
   ]
  },
  {
   "cell_type": "code",
   "execution_count": 12,
   "metadata": {},
   "outputs": [],
   "source": [
    "fraud_clean = fraud.drop(['nameOrig','nameDest','Unnamed: 0'], axis = 1)"
   ]
  },
  {
   "cell_type": "code",
   "execution_count": 13,
   "metadata": {},
   "outputs": [
    {
     "data": {
      "text/html": [
       "<div>\n",
       "<style scoped>\n",
       "    .dataframe tbody tr th:only-of-type {\n",
       "        vertical-align: middle;\n",
       "    }\n",
       "\n",
       "    .dataframe tbody tr th {\n",
       "        vertical-align: top;\n",
       "    }\n",
       "\n",
       "    .dataframe thead th {\n",
       "        text-align: right;\n",
       "    }\n",
       "</style>\n",
       "<table border=\"1\" class=\"dataframe\">\n",
       "  <thead>\n",
       "    <tr style=\"text-align: right;\">\n",
       "      <th></th>\n",
       "      <th>step</th>\n",
       "      <th>type</th>\n",
       "      <th>amount</th>\n",
       "      <th>oldbalanceOrg</th>\n",
       "      <th>newbalanceOrig</th>\n",
       "      <th>oldbalanceDest</th>\n",
       "      <th>newbalanceDest</th>\n",
       "      <th>isFraud</th>\n",
       "      <th>isFlaggedFraud</th>\n",
       "    </tr>\n",
       "  </thead>\n",
       "  <tbody>\n",
       "    <tr>\n",
       "      <th>0</th>\n",
       "      <td>39</td>\n",
       "      <td>CASH_OUT</td>\n",
       "      <td>134220.68</td>\n",
       "      <td>148689.91</td>\n",
       "      <td>14469.23</td>\n",
       "      <td>1460741.73</td>\n",
       "      <td>1515197.87</td>\n",
       "      <td>0</td>\n",
       "      <td>0</td>\n",
       "    </tr>\n",
       "    <tr>\n",
       "      <th>1</th>\n",
       "      <td>14</td>\n",
       "      <td>CASH_IN</td>\n",
       "      <td>147989.15</td>\n",
       "      <td>770489.94</td>\n",
       "      <td>918479.10</td>\n",
       "      <td>165786.61</td>\n",
       "      <td>0.00</td>\n",
       "      <td>0</td>\n",
       "      <td>0</td>\n",
       "    </tr>\n",
       "    <tr>\n",
       "      <th>2</th>\n",
       "      <td>227</td>\n",
       "      <td>CASH_OUT</td>\n",
       "      <td>22497.02</td>\n",
       "      <td>140.00</td>\n",
       "      <td>0.00</td>\n",
       "      <td>0.00</td>\n",
       "      <td>22497.02</td>\n",
       "      <td>0</td>\n",
       "      <td>0</td>\n",
       "    </tr>\n",
       "    <tr>\n",
       "      <th>3</th>\n",
       "      <td>210</td>\n",
       "      <td>CASH_OUT</td>\n",
       "      <td>200096.30</td>\n",
       "      <td>147679.00</td>\n",
       "      <td>0.00</td>\n",
       "      <td>0.00</td>\n",
       "      <td>200096.30</td>\n",
       "      <td>0</td>\n",
       "      <td>0</td>\n",
       "    </tr>\n",
       "    <tr>\n",
       "      <th>4</th>\n",
       "      <td>162</td>\n",
       "      <td>PAYMENT</td>\n",
       "      <td>13904.94</td>\n",
       "      <td>0.00</td>\n",
       "      <td>0.00</td>\n",
       "      <td>0.00</td>\n",
       "      <td>0.00</td>\n",
       "      <td>0</td>\n",
       "      <td>0</td>\n",
       "    </tr>\n",
       "  </tbody>\n",
       "</table>\n",
       "</div>"
      ],
      "text/plain": [
       "   step      type     amount  oldbalanceOrg  newbalanceOrig  oldbalanceDest  \\\n",
       "0    39  CASH_OUT  134220.68      148689.91        14469.23      1460741.73   \n",
       "1    14   CASH_IN  147989.15      770489.94       918479.10       165786.61   \n",
       "2   227  CASH_OUT   22497.02         140.00            0.00            0.00   \n",
       "3   210  CASH_OUT  200096.30      147679.00            0.00            0.00   \n",
       "4   162   PAYMENT   13904.94           0.00            0.00            0.00   \n",
       "\n",
       "   newbalanceDest  isFraud  isFlaggedFraud  \n",
       "0      1515197.87        0               0  \n",
       "1            0.00        0               0  \n",
       "2        22497.02        0               0  \n",
       "3       200096.30        0               0  \n",
       "4            0.00        0               0  "
      ]
     },
     "execution_count": 13,
     "metadata": {},
     "output_type": "execute_result"
    }
   ],
   "source": [
    "fraud_clean.head()"
   ]
  },
  {
   "cell_type": "code",
   "execution_count": 14,
   "metadata": {},
   "outputs": [
    {
     "data": {
      "text/plain": [
       "step              0\n",
       "type              0\n",
       "amount            0\n",
       "oldbalanceOrg     0\n",
       "newbalanceOrig    0\n",
       "oldbalanceDest    0\n",
       "newbalanceDest    0\n",
       "isFraud           0\n",
       "isFlaggedFraud    0\n",
       "dtype: int64"
      ]
     },
     "execution_count": 14,
     "metadata": {},
     "output_type": "execute_result"
    }
   ],
   "source": [
    "fraud_clean.isnull().sum()"
   ]
  },
  {
   "cell_type": "markdown",
   "metadata": {},
   "source": [
    "There are no null values within this dataset to drop. "
   ]
  },
  {
   "cell_type": "code",
   "execution_count": 15,
   "metadata": {},
   "outputs": [
    {
     "name": "stdout",
     "output_type": "stream",
     "text": [
      "<class 'pandas.core.frame.DataFrame'>\n",
      "RangeIndex: 20000 entries, 0 to 19999\n",
      "Data columns (total 9 columns):\n",
      " #   Column          Non-Null Count  Dtype  \n",
      "---  ------          --------------  -----  \n",
      " 0   step            20000 non-null  int64  \n",
      " 1   type            20000 non-null  object \n",
      " 2   amount          20000 non-null  float64\n",
      " 3   oldbalanceOrg   20000 non-null  float64\n",
      " 4   newbalanceOrig  20000 non-null  float64\n",
      " 5   oldbalanceDest  20000 non-null  float64\n",
      " 6   newbalanceDest  20000 non-null  float64\n",
      " 7   isFraud         20000 non-null  int64  \n",
      " 8   isFlaggedFraud  20000 non-null  int64  \n",
      "dtypes: float64(5), int64(3), object(1)\n",
      "memory usage: 1.4+ MB\n"
     ]
    }
   ],
   "source": [
    "fraud_clean.info()"
   ]
  },
  {
   "cell_type": "code",
   "execution_count": 16,
   "metadata": {},
   "outputs": [],
   "source": [
    "# save dataframe as a new csv file to be used in the next step\n",
    "\n",
    "fraud_clean.to_csv('../data/fraud_cleaned.csv')"
   ]
  }
 ],
 "metadata": {
  "kernelspec": {
   "display_name": "base",
   "language": "python",
   "name": "python3"
  },
  "language_info": {
   "codemirror_mode": {
    "name": "ipython",
    "version": 3
   },
   "file_extension": ".py",
   "mimetype": "text/x-python",
   "name": "python",
   "nbconvert_exporter": "python",
   "pygments_lexer": "ipython3",
   "version": "3.11.5"
  }
 },
 "nbformat": 4,
 "nbformat_minor": 2
}
