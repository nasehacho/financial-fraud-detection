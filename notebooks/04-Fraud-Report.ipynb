{
 "cells": [
  {
   "cell_type": "markdown",
   "metadata": {},
   "source": [
    "## 1. Which insights did you gain from your EDA?\n",
    "\n",
    "It could be seen that the data must be sized down in order to run code smoothly. Sample sizing the data is acceptable due to the \"central limit theorem\" which mentions the unchanging behavior of data in showcasing a normal distribution despite the addition of different data points or measurements as long as their is a sample size of at least 30. \n",
    "\n",
    "There were no null values to be seen within this dataset. \n",
    "\n",
    "Although not definitive, within the scatter plots between Type Vs. Amount, it could be seen with the isFraud hue that the only fraudulent cases are within the types 'TRANSFER' and 'CASH-OUT'\n",
    "\n",
    "The naming of the accounts seemed to not be necessary predictors for fraudulent cases as they were all specific to their own account. \n",
    "\n",
    "'newbalanceDest' and 'amount' had the highest correlation within the dataset according to the correlation matrix. \n",
    "\n",
    "Right skewedness had been observed within the numerical columns of the dataset. "
   ]
  },
  {
   "cell_type": "markdown",
   "metadata": {},
   "source": [
    "## 2. How did you determine which columns to drop or keep? If your EDA informed this process, explain which insights you used to determine which columns were not needed.\n",
    "\n",
    "Based off of the EDA, if there were no siginificant trends within the data, it seemed as though it was safe to drop these columns. As an example, the nameOrig and nameDest columns did not produce any graphical data in their univariate analysis, showcasing that their counts are specific to itself. "
   ]
  },
  {
   "cell_type": "markdown",
   "metadata": {},
   "source": [
    "## 3. Which hyperparameter tuning strategy did you use? Grid-search or random-search? Why?\n",
    "\n",
    "I utilized random-search due to how it is less computationally exhaustive compared to a grid search. "
   ]
  },
  {
   "cell_type": "markdown",
   "metadata": {},
   "source": [
    "## 4. How did your model's performance change after discovering optimal hyperparameters?\n",
    "\n",
    "The model's performance surprisingly did not change. This can be the fault of the random search hyperparameter tuning as it is known to not provide the best parameters due to its randomness. "
   ]
  },
  {
   "cell_type": "markdown",
   "metadata": {},
   "source": [
    "## 5. What was your final F1 Score?\n",
    "\n",
    "The final F1 score had been 1, indicating high precision and recall. "
   ]
  }
 ],
 "metadata": {
  "language_info": {
   "name": "python"
  }
 },
 "nbformat": 4,
 "nbformat_minor": 2
}
