{
 "cells": [
  {
   "cell_type": "markdown",
   "metadata": {},
   "source": [
    "## 1. Which insights did you gain from your EDA?\n",
    "\n",
    "It could be seen that the data must be sized down in order to run code smoothly. Sample sizing the data is acceptable due to the \"central limit theorem\" which mentions the unchanging behavior of data in showcasing a normal distribution despite the addition of different data points or measurements as long as their is a sample size of at least 30. \n",
    "\n",
    "There were no null values to be seen within this dataset. \n",
    "\n",
    "\n"
   ]
  },
  {
   "cell_type": "markdown",
   "metadata": {},
   "source": [
    "## 2. How did you determine which columns to drop or keep? If your EDA informed this process, explain which insights you used to determine which columns were not needed."
   ]
  },
  {
   "cell_type": "markdown",
   "metadata": {},
   "source": [
    "## 3. Which hyperparameter tuning strategy did you use? Grid-search or random-search? Why?"
   ]
  },
  {
   "cell_type": "markdown",
   "metadata": {},
   "source": [
    "## 4. How did your model's performance change after discovering optimal hyperparameters?"
   ]
  },
  {
   "cell_type": "markdown",
   "metadata": {},
   "source": [
    "## 5. What was your final F1 Score?"
   ]
  }
 ],
 "metadata": {
  "language_info": {
   "name": "python"
  }
 },
 "nbformat": 4,
 "nbformat_minor": 2
}
